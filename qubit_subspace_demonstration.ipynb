{
 "cells": [
  {
   "cell_type": "markdown",
   "id": "6b631a34",
   "metadata": {},
   "source": [
    "# Demonstration of qubit subspace techniques using `Symmer`\n",
    "\n",
    "Here we demonstrate how one arrives at the 3-qubit contextual subspace Hamiltonian that was taken as a testbed for our quantum error mitigation benchmark paper. This utilizes the [symmer](https://github.com/UCL-CCS/symmer) python package, that will need to be installed if one wishes to run these notebooks."
   ]
  },
  {
   "cell_type": "code",
   "execution_count": 54,
   "id": "b0bb2f3e",
   "metadata": {},
   "outputs": [
    {
     "name": "stdout",
     "output_type": "stream",
     "text": [
      "/home/tweaving/qc-research/quantum-error-mitigation\n"
     ]
    }
   ],
   "source": [
    "import os\n",
    "import json\n",
    "import numpy as np\n",
    "from matplotlib import pyplot as plt\n",
    "from symmer.symplectic import PauliwordOp, QuantumState\n",
    "from symmer.utils import exact_gs_energy\n",
    "\n",
    "qem_directory =  os.getcwd()\n",
    "print(qem_directory)\n",
    "ham_data_dir = os.path.join(qem_directory, 'data/hamiltonian')\n",
    "qem_data_dir = os.path.join(qem_directory, 'data/QEM_benchmark')\n",
    "\n",
    "filename = 'HCl_STO-3G_SINGLET_JW.json'\n",
    "    \n",
    "with open(os.path.join(ham_data_dir, filename), 'r') as infile:\n",
    "    data_dict = json.load(infile)\n",
    "\n",
    "# 20-qubit HCl Hamiltonian:\n",
    "H = PauliwordOp.from_dictionary(data_dict['hamiltonian'])\n",
    "# ... the corresponding coupled cluster singles doubles operator:\n",
    "UCC = PauliwordOp.from_dictionary(data_dict['data']['auxiliary_operators']['UCCSD_operator'])\n",
    "# ... the number operator:\n",
    "NUM = PauliwordOp.from_dictionary(data_dict['data']['auxiliary_operators']['number_operator'])\n",
    "# ... the Hartree-Fock state for this system:\n",
    "HF_state = QuantumState(data_dict['data']['hf_array'])\n",
    "# ... and various classical quantum chemistry benchmark energies:\n",
    "hf_energy = data_dict['data']['calculated_properties']['HF']['energy']\n",
    "mp2_energy = data_dict['data']['calculated_properties']['MP2']['energy']\n",
    "ccsd_energy = data_dict['data']['calculated_properties']['CCSD']['energy']\n",
    "fci_energy = data_dict['data']['calculated_properties']['FCI']['energy']"
   ]
  },
  {
   "cell_type": "markdown",
   "id": "04df9cfd",
   "metadata": {},
   "source": [
    "# Tapering the Hamiltonian:\n",
    "\n",
    "Remove $\\mathbb{Z}_2$ symmetries, reducing the problem from $20 \\rightarrow 16$ qubits."
   ]
  },
  {
   "cell_type": "code",
   "execution_count": 55,
   "id": "e58cf513",
   "metadata": {},
   "outputs": [
    {
     "name": "stdout",
     "output_type": "stream",
     "text": [
      "Qubit tapering permits a reduction of 20 -> 16 qubits.\n",
      "\n",
      "The following symmetry generators were identified:\n",
      "\n",
      " 1 IIIIIIIIZZIIIIIIZZII \n",
      " 1 IIIIIIZZIIIIIIZZIIII \n",
      " 1 IZIZIZIZIZIZIZIZIZIZ \n",
      " 1 ZIZIZIIZIZZIZIIZIZZI\n",
      "\n",
      "which we may rotate onto the single-qubit Pauli operators\n",
      "\n",
      "-1 IIIIIIIIXIIIIIIIIIII \n",
      "-1 IIIIIIXIIIIIIIIIIIII \n",
      "-1 IXIIIIIIIIIIIIIIIIII \n",
      "-1 XIIIIIIIIIIIIIIIIIII\n",
      "\n",
      "via a sequence of Clifford operations R_k = e^{i pi/4 P_k} where:\n",
      "\n",
      "P_0 =  1+0j IIIIIIIIYZIIIIIIZZII\n",
      "P_1 =  1+0j IIIIIIYZIIIIIIZZIIII\n",
      "P_2 =  1+0j IYIZIZIZIZIZIZIZIZIZ\n",
      "P_3 =  1+0j YIZIZIIZIZZIZIIZIZZI\n"
     ]
    }
   ],
   "source": [
    "from symmer import QubitTapering\n",
    "\n",
    "QT = QubitTapering(H)\n",
    "\n",
    "print(f'Qubit tapering permits a reduction of {H.n_qubits} -> {H.n_qubits-QT.n_taper} qubits.\\n')\n",
    "print('The following symmetry generators were identified:\\n')\n",
    "print(QT.symmetry_generators); print()\n",
    "print('which we may rotate onto the single-qubit Pauli operators\\n') \n",
    "print(QT.symmetry_generators.rotate_onto_single_qubit_paulis()); print()\n",
    "print('via a sequence of Clifford operations R_k = e^{i pi/4 P_k} where:\\n')\n",
    "for index, (P_k, angle) in enumerate(QT.symmetry_generators.stabilizer_rotations):\n",
    "    P_k.sigfig=0\n",
    "    print(f'P_{index} = {P_k}')"
   ]
  },
  {
   "cell_type": "code",
   "execution_count": 56,
   "id": "ad3044f8",
   "metadata": {},
   "outputs": [
    {
     "name": "stdout",
     "output_type": "stream",
     "text": [
      "Tapered number operator commutes with Hamiltonian? True\n"
     ]
    }
   ],
   "source": [
    "# We may pater the Hamiltonian with respect to the Hartree-Fock state (this defines the symmetry sector)\n",
    "H_taper = QT.taper_it(ref_state=HF_state)\n",
    "# ... along with any auxiliary operators one might be interested in:\n",
    "UCC_taper = QT.taper_it(aux_operator=UCC)\n",
    "NUM_taper = QT.taper_it(aux_operator=NUM)\n",
    "# Note the number operator still commutes with the Hamiltonian in the reduced subspace:\n",
    "print(f'Tapered number operator commutes with Hamiltonian? {H_taper.commutes(NUM_taper)}')"
   ]
  },
  {
   "cell_type": "markdown",
   "id": "0fe70519",
   "metadata": {},
   "source": [
    "# Contextual Subspace\n",
    "\n",
    "Initialize an instance of the `ContextualSubspace` class, which shall extract a noncontextual component from the Hamiltonian and solve it classically."
   ]
  },
  {
   "cell_type": "code",
   "execution_count": 57,
   "id": "6b8abfe0",
   "metadata": {},
   "outputs": [
    {
     "name": "stderr",
     "output_type": "stream",
     "text": [
      "/home/tweaving/anaconda3/envs/symmer/lib/python3.8/site-packages/symmer/symplectic/independent_op.py:102: UserWarning: Greedy method may identify non-optimal commuting symmetry terms; might be able to taper again.\n",
      "  warnings.warn('Greedy method may identify non-optimal commuting symmetry terms; might be able to taper again.')\n"
     ]
    },
    {
     "data": {
      "text/plain": [
       "(-455.13544567081203, -455.1354456708121)"
      ]
     },
     "execution_count": 57,
     "metadata": {},
     "output_type": "execute_result"
    }
   ],
   "source": [
    "from symmer import ContextualSubspace\n",
    "\n",
    "CS = ContextualSubspace(H_taper, noncontextual_strategy='diag', reference_state=QT.tapered_ref_state)\n",
    "CS.noncontextual_operator.energy, hf_energy"
   ]
  },
  {
   "cell_type": "markdown",
   "id": "c6db3fed",
   "metadata": {},
   "source": [
    "We identify a contextual subspace that reduces our problem from $16 \\rightarrow 3$ qubits while retaining a ground state energy within chemical accuracy of the full-configuration interaction (FCI) energy"
   ]
  },
  {
   "cell_type": "code",
   "execution_count": 58,
   "id": "4fdcb180",
   "metadata": {},
   "outputs": [
    {
     "name": "stdout",
     "output_type": "stream",
     "text": [
      "-453.091+0.000j III +\n",
      " 0.394+0.000j IIZ +\n",
      " 0.621+0.000j IZI +\n",
      " 0.847+0.000j IZZ +\n",
      " 0.621+0.000j ZII +\n",
      " 0.847+0.000j ZIZ +\n",
      " 0.258+0.000j ZZI +\n",
      " 0.238+0.000j ZZZ +\n",
      "-0.015+0.000j IIX +\n",
      " 0.015-0.000j IZX +\n",
      " 0.015+0.000j ZIX +\n",
      "-0.015+0.000j ZZX +\n",
      " 0.005+0.000j IXI +\n",
      "-0.005+0.000j IXZ +\n",
      " 0.062+0.000j ZXI +\n",
      "-0.062+0.000j ZXZ +\n",
      "-0.010+0.000j IXX +\n",
      "-0.010+0.000j IYY +\n",
      " 0.010+0.000j ZXX +\n",
      " 0.010+0.000j ZYY +\n",
      "-0.005+0.000j XII +\n",
      " 0.005+0.000j XIZ +\n",
      "-0.062+0.000j XZI +\n",
      " 0.062+0.000j XZZ +\n",
      " 0.010+0.000j XIX +\n",
      "-0.010+0.000j XZX +\n",
      " 0.010-0.000j YIY +\n",
      "-0.010+0.000j YZY +\n",
      "-0.056+0.000j YYI +\n",
      " 0.056+0.000j YYZ +\n",
      "-0.035+0.000j XXX +\n",
      "-0.035+0.000j XYY +\n",
      "-0.035+0.000j YXY +\n",
      " 0.035-0.000j YYX\n"
     ]
    }
   ],
   "source": [
    "# Choose the number of qubits one wishes to project onto,\n",
    "# specifying the UCC operator to motivate the subspace choice:\n",
    "CS.update_stabilizers(n_qubits=3, aux_operator=UCC_taper)\n",
    "# and finally project the Hamiltonian into the contextual subspace:\n",
    "H_cs = CS.project_onto_subspace()\n",
    "print(H_cs)"
   ]
  },
  {
   "cell_type": "code",
   "execution_count": 59,
   "id": "a7bbc59e",
   "metadata": {},
   "outputs": [
    {
     "name": "stdout",
     "output_type": "stream",
     "text": [
      "Energy error w.r.t FCI: 0.000837380287691758 Ha\n",
      "Within chemical precision?: True\n"
     ]
    }
   ],
   "source": [
    "cs_nrg, cs_psi = exact_gs_energy(H_cs.to_sparse_matrix)\n",
    "error = abs(cs_nrg - fci_energy)\n",
    "print(f'Energy error w.r.t FCI: {error} Ha')\n",
    "print(f'Within chemical precision?: {error < 0.0016}')"
   ]
  },
  {
   "cell_type": "code",
   "execution_count": null,
   "id": "ec4aae24",
   "metadata": {},
   "outputs": [],
   "source": []
  },
  {
   "cell_type": "code",
   "execution_count": null,
   "id": "3cb5446b",
   "metadata": {},
   "outputs": [],
   "source": []
  }
 ],
 "metadata": {
  "kernelspec": {
   "display_name": "Python 3 (ipykernel)",
   "language": "python",
   "name": "python3"
  },
  "language_info": {
   "codemirror_mode": {
    "name": "ipython",
    "version": 3
   },
   "file_extension": ".py",
   "mimetype": "text/x-python",
   "name": "python",
   "nbconvert_exporter": "python",
   "pygments_lexer": "ipython3",
   "version": "3.8.13"
  }
 },
 "nbformat": 4,
 "nbformat_minor": 5
}
